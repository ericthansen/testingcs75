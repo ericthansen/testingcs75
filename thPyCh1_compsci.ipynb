{
 "cells": [
  {
   "cell_type": "markdown",
   "metadata": {},
   "source": [
    "# Think Python 2 Outline:\n",
    "Look, I can make edits!"
   ]
  },
  {
   "cell_type": "markdown",
   "metadata": {},
   "source": [
    "Oh look, here is a new cell to write notes!"
   ]
  },
  {
   "cell_type": "markdown",
   "metadata": {},
   "source": [
    "Chapter 1"
   ]
  },
  {
   "cell_type": "markdown",
   "metadata": {},
   "source": [
    "Problem solving: the ability to formulate problems, think creatively about solutions, and express a solution clearly and accurately.  The process of learning to program is an excellent opportunity to practice these skills.\n",
    "Here are my notes!  Hooray!"
   ]
  },
  {
   "cell_type": "markdown",
   "metadata": {},
   "source": [
    "What is a Program?\n",
    "******\n",
    "What is it to you? ________________\n",
    "- input\n",
    "- output\n",
    "- math\n",
    "- conditional execution - if condition1 is true, do tthing 1; otherwise, do thing2\n",
    "- repetition\n",
    "    print('hello world') x 100\n",
    "    loops\n"
   ]
  },
  {
   "cell_type": "markdown",
   "metadata": {},
   "source": [
    "The Environment that you write Python:\n",
    "***\n",
    "- directly into interpreter - the REPL\n",
    "- IDLE\n",
    "- web-based eg. PythonAnywhere\n",
    "- Local Development Environment, like Sublime Text or PyCharm\n",
    "- Local/web hybrid: Jupyter"
   ]
  },
  {
   "cell_type": "code",
   "execution_count": 2,
   "metadata": {},
   "outputs": [
    {
     "name": "stdout",
     "output_type": "stream",
     "text": [
      "Hello World your name!\n"
     ]
    }
   ],
   "source": [
    "#First Program!\n",
    "print(\"Hello World your name!\")"
   ]
  },
  {
   "cell_type": "code",
   "execution_count": 68,
   "metadata": {},
   "outputs": [
    {
     "name": "stdout",
     "output_type": "stream",
     "text": [
      "42\n",
      "42\n",
      "6*7\n",
      "6*7\n",
      "Mr. Hansen's coffee.\n",
      "Mr. Hansen said \"hello!\"\n",
      "Mr. Hansen's mac\\computer is \"awesome\".\n",
      "8\n",
      "0.6000000000000001\n",
      "2.0\n",
      "False\n",
      "True\n",
      "5\n",
      "3.14159\n",
      "3.141592653589793\n",
      "6*7= 42\n"
     ]
    }
   ],
   "source": [
    "# octothorpe \n",
    "#lines beginning with one of these are a Comment\n",
    "#Arithmetic Operators:\n",
    "print(40+2)\n",
    "print(6*7)\n",
    "print(\"6*7\")\n",
    "print('6*7')\n",
    "print(\"Mr. Hansen's coffee.\")\n",
    "print('Mr. Hansen said \"hello!\"')\n",
    "print(\"Mr. Hansen's mac\\\\computer is \\\"awesome\\\".\")\n",
    "print(2**3) #This is exponentiation!  ^ is XOR\n",
    "#Fill in your own: ______________\n",
    "print(2-7 / 5)\n",
    "print(4/2)\n",
    "print(1==2)\n",
    "print(1<2)\n",
    "x = 5 # x gets the value of 5\n",
    "var1=2 \n",
    "print(x)\n",
    "\n",
    "pi = 3.14159\n",
    "print(pi)\n",
    "\n",
    "import math\n",
    "print(math.pi)\n",
    "print(\"6*7=\",6*7)"
   ]
  },
  {
   "cell_type": "markdown",
   "metadata": {},
   "source": [
    "#Values and Types:\n",
    "- String (str):\n",
    "- Integer (int):\n",
    "- Floating-point (float):\n",
    "- Binary (bin):\n",
    "- and more\n",
    "\n",
    "\n"
   ]
  },
  {
   "cell_type": "code",
   "execution_count": 87,
   "metadata": {},
   "outputs": [
    {
     "name": "stdout",
     "output_type": "stream",
     "text": [
      "6*7= 42\n",
      "27.5\n",
      "word word word word word word word \n",
      "7777777\n",
      "2\n"
     ]
    }
   ],
   "source": [
    "#incompatible types?\n",
    "1+1 # an int + an int = ok\n",
    "# \"one\"+1 #this was a string +'ed with an integer = not ok!\n",
    "'two'+\"one\" #concatenation cat for short = ok!\n",
    "\n",
    "print(\"6*7=\",6*7)\n",
    "\n",
    "##Casting\n",
    "mystring = \"5\"\n",
    "print(int(mystring*2)/2)\n",
    "x = 7\n",
    "print(\"word \"*7)\n",
    "print(str(x)*7)\n",
    "myfloat = 2.5\n",
    "print(int(myfloat))"
   ]
  },
  {
   "cell_type": "markdown",
   "metadata": {},
   "source": [
    "Natural Languages vs. Formal Languages\n",
    "- Parsing / Ambiguity /Redundancy /literalness\n",
    "- poetry/prose/programs\n",
    "\n",
    "Semantics vs. Syntax\n",
    "Semantics of a program/sentence/idea - the meaning of it.\n",
    "Syntax of a program/sentence/idea - the structure/grammar/technical rules of it.\n",
    "\n",
    "                        Syntax.       Semantics\n",
    "                    \n",
    "Stand up, then jump.     good.          good\n",
    "Up stand jump!           bad.           good (enough)\n",
    "Jump, then stand.        good.          bad. \n",
    "~\"jump jump jump zebra!   bad.          bad. \n",
    "                    \n",
    "\n",
    "Debugging\n"
   ]
  },
  {
   "cell_type": "markdown",
   "metadata": {},
   "source": [
    "***\n",
    "---Exercises----\n",
    "***"
   ]
  },
  {
   "cell_type": "markdown",
   "metadata": {},
   "source": [
    "Exercise 1\n",
    "- 1) In a print statement, what happens if you leave out one or both of the parentheses?\n",
    "- 2) If you are trying to print a string, what happens if you leave out one/both of the quotation marks (or apostrophes)?\n",
    "- 3) You can use a minus sign to make a negative number like -2. What happens if you put a plus sign before a number? What about 2++2?\n",
    "- 4) In math notation, leading zeros are ok, as in 09. What happens if you try this in Python? What about 011?\n",
    "- 5) What happens if you have two values with no operator between them?"
   ]
  },
  {
   "cell_type": "code",
   "execution_count": null,
   "metadata": {},
   "outputs": [],
   "source": []
  },
  {
   "cell_type": "markdown",
   "metadata": {},
   "source": [
    "Exercise 2\n",
    "See text!"
   ]
  },
  {
   "cell_type": "code",
   "execution_count": null,
   "metadata": {},
   "outputs": [],
   "source": []
  }
 ],
 "metadata": {
  "kernelspec": {
   "display_name": "Python 3",
   "language": "python",
   "name": "python3"
  },
  "language_info": {
   "codemirror_mode": {
    "name": "ipython",
    "version": 3
   },
   "file_extension": ".py",
   "mimetype": "text/x-python",
   "name": "python",
   "nbconvert_exporter": "python",
   "pygments_lexer": "ipython3",
   "version": "3.8.3"
  }
 },
 "nbformat": 4,
 "nbformat_minor": 4
}
